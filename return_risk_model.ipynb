{
 "cells": [
  {
   "cell_type": "code",
   "execution_count": 10,
   "id": "6285e1a9",
   "metadata": {},
   "outputs": [
    {
     "name": "stdout",
     "output_type": "stream",
     "text": [
      "Requirement already satisfied: seaborn in d:\\coding\\ml_projects\\venv\\lib\\site-packages (0.13.2)\n",
      "Requirement already satisfied: numpy!=1.24.0,>=1.20 in c:\\users\\ankit\\appdata\\roaming\\python\\python310\\site-packages (from seaborn) (1.26.4)\n",
      "Requirement already satisfied: pandas>=1.2 in c:\\users\\ankit\\appdata\\roaming\\python\\python310\\site-packages (from seaborn) (2.2.3)\n",
      "Requirement already satisfied: matplotlib!=3.6.1,>=3.4 in c:\\users\\ankit\\appdata\\roaming\\python\\python310\\site-packages (from seaborn) (3.10.0)\n",
      "Requirement already satisfied: contourpy>=1.0.1 in c:\\users\\ankit\\appdata\\roaming\\python\\python310\\site-packages (from matplotlib!=3.6.1,>=3.4->seaborn) (1.3.1)\n",
      "Requirement already satisfied: cycler>=0.10 in c:\\users\\ankit\\appdata\\roaming\\python\\python310\\site-packages (from matplotlib!=3.6.1,>=3.4->seaborn) (0.12.1)\n",
      "Requirement already satisfied: fonttools>=4.22.0 in c:\\users\\ankit\\appdata\\roaming\\python\\python310\\site-packages (from matplotlib!=3.6.1,>=3.4->seaborn) (4.55.8)\n",
      "Requirement already satisfied: kiwisolver>=1.3.1 in c:\\users\\ankit\\appdata\\roaming\\python\\python310\\site-packages (from matplotlib!=3.6.1,>=3.4->seaborn) (1.4.8)\n",
      "Requirement already satisfied: packaging>=20.0 in c:\\users\\ankit\\appdata\\roaming\\python\\python310\\site-packages (from matplotlib!=3.6.1,>=3.4->seaborn) (24.2)\n",
      "Requirement already satisfied: pillow>=8 in c:\\users\\ankit\\appdata\\roaming\\python\\python310\\site-packages (from matplotlib!=3.6.1,>=3.4->seaborn) (11.1.0)\n",
      "Requirement already satisfied: pyparsing>=2.3.1 in c:\\users\\ankit\\appdata\\roaming\\python\\python310\\site-packages (from matplotlib!=3.6.1,>=3.4->seaborn) (3.2.1)\n",
      "Requirement already satisfied: python-dateutil>=2.7 in d:\\coding\\ml_projects\\venv\\lib\\site-packages (from matplotlib!=3.6.1,>=3.4->seaborn) (2.8.2)\n",
      "Requirement already satisfied: pytz>=2020.1 in c:\\users\\ankit\\appdata\\roaming\\python\\python310\\site-packages (from pandas>=1.2->seaborn) (2024.2)\n",
      "Requirement already satisfied: tzdata>=2022.7 in c:\\users\\ankit\\appdata\\roaming\\python\\python310\\site-packages (from pandas>=1.2->seaborn) (2025.1)\n",
      "Requirement already satisfied: six>=1.5 in c:\\users\\ankit\\appdata\\roaming\\python\\python310\\site-packages (from python-dateutil>=2.7->matplotlib!=3.6.1,>=3.4->seaborn) (1.17.0)\n",
      "Note: you may need to restart the kernel to use updated packages.\n"
     ]
    },
    {
     "name": "stderr",
     "output_type": "stream",
     "text": [
      "\n",
      "[notice] A new release of pip is available: 25.0.1 -> 25.1.1\n",
      "[notice] To update, run: python.exe -m pip install --upgrade pip\n"
     ]
    }
   ],
   "source": [
    "pip install seaborn"
   ]
  },
  {
   "cell_type": "code",
   "execution_count": 11,
   "id": "b61829ea",
   "metadata": {},
   "outputs": [
    {
     "name": "stdout",
     "output_type": "stream",
     "text": [
      "Collecting xgboost\n",
      "  Downloading xgboost-3.0.2-py3-none-win_amd64.whl.metadata (2.1 kB)\n",
      "Requirement already satisfied: numpy in c:\\users\\ankit\\appdata\\roaming\\python\\python310\\site-packages (from xgboost) (1.26.4)\n",
      "Requirement already satisfied: scipy in c:\\users\\ankit\\appdata\\roaming\\python\\python310\\site-packages (from xgboost) (1.15.1)\n",
      "Downloading xgboost-3.0.2-py3-none-win_amd64.whl (150.0 MB)\n",
      "   ---------------------------------------- 0.0/150.0 MB ? eta -:--:--\n",
      "   ---------------------------------------- 0.3/150.0 MB ? eta -:--:--\n",
      "   ---------------------------------------- 1.0/150.0 MB 3.1 MB/s eta 0:00:48\n",
      "   ---------------------------------------- 1.8/150.0 MB 3.4 MB/s eta 0:00:45\n",
      "    --------------------------------------- 2.6/150.0 MB 3.5 MB/s eta 0:00:42\n",
      "    --------------------------------------- 3.7/150.0 MB 3.8 MB/s eta 0:00:39\n",
      "   - -------------------------------------- 5.0/150.0 MB 4.2 MB/s eta 0:00:35\n",
      "   - -------------------------------------- 6.6/150.0 MB 4.6 MB/s eta 0:00:32\n",
      "   -- ------------------------------------- 8.4/150.0 MB 5.1 MB/s eta 0:00:28\n",
      "   -- ------------------------------------- 9.7/150.0 MB 5.3 MB/s eta 0:00:27\n",
      "   --- ------------------------------------ 11.3/150.0 MB 5.6 MB/s eta 0:00:25\n",
      "   --- ------------------------------------ 13.1/150.0 MB 5.8 MB/s eta 0:00:24\n",
      "   --- ------------------------------------ 14.9/150.0 MB 6.1 MB/s eta 0:00:23\n",
      "   ---- ----------------------------------- 16.8/150.0 MB 6.4 MB/s eta 0:00:21\n",
      "   ----- ---------------------------------- 18.9/150.0 MB 6.6 MB/s eta 0:00:20\n",
      "   ----- ---------------------------------- 20.4/150.0 MB 6.7 MB/s eta 0:00:20\n",
      "   ------ --------------------------------- 22.5/150.0 MB 6.8 MB/s eta 0:00:19\n",
      "   ------ --------------------------------- 24.1/150.0 MB 6.9 MB/s eta 0:00:19\n",
      "   ------ --------------------------------- 26.2/150.0 MB 7.0 MB/s eta 0:00:18\n",
      "   ------- -------------------------------- 28.0/150.0 MB 7.1 MB/s eta 0:00:18\n",
      "   ------- -------------------------------- 29.9/150.0 MB 7.2 MB/s eta 0:00:17\n",
      "   -------- ------------------------------- 32.2/150.0 MB 7.4 MB/s eta 0:00:16\n",
      "   --------- ------------------------------ 34.3/150.0 MB 7.6 MB/s eta 0:00:16\n",
      "   --------- ------------------------------ 36.2/150.0 MB 7.6 MB/s eta 0:00:16\n",
      "   ---------- ----------------------------- 38.3/150.0 MB 7.7 MB/s eta 0:00:15\n",
      "   ---------- ----------------------------- 40.1/150.0 MB 7.7 MB/s eta 0:00:15\n",
      "   ----------- ---------------------------- 42.5/150.0 MB 7.9 MB/s eta 0:00:14\n",
      "   ----------- ---------------------------- 44.8/150.0 MB 8.0 MB/s eta 0:00:14\n",
      "   ------------ --------------------------- 46.9/150.0 MB 8.0 MB/s eta 0:00:13\n",
      "   ------------- -------------------------- 49.5/150.0 MB 8.2 MB/s eta 0:00:13\n",
      "   ------------- -------------------------- 51.9/150.0 MB 8.3 MB/s eta 0:00:12\n",
      "   -------------- ------------------------- 54.5/150.0 MB 8.4 MB/s eta 0:00:12\n",
      "   --------------- ------------------------ 56.9/150.0 MB 8.5 MB/s eta 0:00:11\n",
      "   --------------- ------------------------ 59.0/150.0 MB 8.6 MB/s eta 0:00:11\n",
      "   ---------------- ----------------------- 61.1/150.0 MB 8.6 MB/s eta 0:00:11\n",
      "   ---------------- ----------------------- 63.2/150.0 MB 8.6 MB/s eta 0:00:11\n",
      "   ----------------- ---------------------- 65.3/150.0 MB 8.7 MB/s eta 0:00:10\n",
      "   ----------------- ---------------------- 67.4/150.0 MB 8.7 MB/s eta 0:00:10\n",
      "   ------------------ --------------------- 69.7/150.0 MB 8.8 MB/s eta 0:00:10\n",
      "   ------------------- -------------------- 71.8/150.0 MB 8.8 MB/s eta 0:00:09\n",
      "   ------------------- -------------------- 74.2/150.0 MB 8.9 MB/s eta 0:00:09\n",
      "   -------------------- ------------------- 76.3/150.0 MB 8.9 MB/s eta 0:00:09\n",
      "   -------------------- ------------------- 78.1/150.0 MB 8.9 MB/s eta 0:00:09\n",
      "   --------------------- ------------------ 80.2/150.0 MB 8.9 MB/s eta 0:00:08\n",
      "   --------------------- ------------------ 82.3/150.0 MB 8.9 MB/s eta 0:00:08\n",
      "   ---------------------- ----------------- 83.9/150.0 MB 8.9 MB/s eta 0:00:08\n",
      "   ---------------------- ----------------- 85.7/150.0 MB 8.9 MB/s eta 0:00:08\n",
      "   ----------------------- ---------------- 87.3/150.0 MB 8.9 MB/s eta 0:00:08\n",
      "   ----------------------- ---------------- 88.6/150.0 MB 8.8 MB/s eta 0:00:07\n",
      "   ------------------------ --------------- 90.7/150.0 MB 8.8 MB/s eta 0:00:07\n",
      "   ------------------------ --------------- 92.8/150.0 MB 8.9 MB/s eta 0:00:07\n",
      "   ------------------------- -------------- 94.9/150.0 MB 8.9 MB/s eta 0:00:07\n",
      "   ------------------------- -------------- 97.0/150.0 MB 8.9 MB/s eta 0:00:06\n",
      "   -------------------------- ------------- 99.1/150.0 MB 8.9 MB/s eta 0:00:06\n",
      "   -------------------------- ------------- 101.2/150.0 MB 8.9 MB/s eta 0:00:06\n",
      "   --------------------------- ------------ 103.3/150.0 MB 8.9 MB/s eta 0:00:06\n",
      "   ---------------------------- ----------- 105.4/150.0 MB 9.0 MB/s eta 0:00:05\n",
      "   ---------------------------- ----------- 107.7/150.0 MB 9.0 MB/s eta 0:00:05\n",
      "   ----------------------------- ---------- 109.8/150.0 MB 9.0 MB/s eta 0:00:05\n",
      "   ----------------------------- ---------- 111.7/150.0 MB 9.0 MB/s eta 0:00:05\n",
      "   ------------------------------ --------- 113.8/150.0 MB 9.0 MB/s eta 0:00:05\n",
      "   ------------------------------ --------- 115.6/150.0 MB 9.1 MB/s eta 0:00:04\n",
      "   ------------------------------- -------- 117.7/150.0 MB 9.0 MB/s eta 0:00:04\n",
      "   ------------------------------- -------- 119.5/150.0 MB 9.0 MB/s eta 0:00:04\n",
      "   -------------------------------- ------- 121.4/150.0 MB 9.0 MB/s eta 0:00:04\n",
      "   -------------------------------- ------- 123.2/150.0 MB 9.0 MB/s eta 0:00:03\n",
      "   --------------------------------- ------ 125.3/150.0 MB 9.0 MB/s eta 0:00:03\n",
      "   --------------------------------- ------ 127.1/150.0 MB 9.1 MB/s eta 0:00:03\n",
      "   ---------------------------------- ----- 129.5/150.0 MB 9.1 MB/s eta 0:00:03\n",
      "   ----------------------------------- ---- 131.6/150.0 MB 9.1 MB/s eta 0:00:03\n",
      "   ----------------------------------- ---- 133.4/150.0 MB 9.1 MB/s eta 0:00:02\n",
      "   ------------------------------------ --- 135.5/150.0 MB 9.1 MB/s eta 0:00:02\n",
      "   ------------------------------------ --- 137.9/150.0 MB 9.1 MB/s eta 0:00:02\n",
      "   ------------------------------------- -- 140.0/150.0 MB 9.1 MB/s eta 0:00:02\n",
      "   ------------------------------------- -- 142.3/150.0 MB 9.2 MB/s eta 0:00:01\n",
      "   -------------------------------------- - 144.4/150.0 MB 9.2 MB/s eta 0:00:01\n",
      "   ---------------------------------------  146.8/150.0 MB 9.2 MB/s eta 0:00:01\n",
      "   ---------------------------------------  148.6/150.0 MB 9.2 MB/s eta 0:00:01\n",
      "   ---------------------------------------  149.9/150.0 MB 9.2 MB/s eta 0:00:01\n",
      "   ---------------------------------------  149.9/150.0 MB 9.2 MB/s eta 0:00:01\n",
      "   ---------------------------------------- 150.0/150.0 MB 9.0 MB/s eta 0:00:00\n",
      "Installing collected packages: xgboost\n",
      "Successfully installed xgboost-3.0.2\n",
      "Note: you may need to restart the kernel to use updated packages.\n"
     ]
    },
    {
     "name": "stderr",
     "output_type": "stream",
     "text": [
      "\n",
      "[notice] A new release of pip is available: 25.0.1 -> 25.1.1\n",
      "[notice] To update, run: python.exe -m pip install --upgrade pip\n"
     ]
    }
   ],
   "source": [
    "pip install xgboost"
   ]
  },
  {
   "cell_type": "code",
   "execution_count": 12,
   "id": "a01d63d4",
   "metadata": {},
   "outputs": [],
   "source": [
    "import pandas as pd\n",
    "import numpy as np\n",
    "import matplotlib.pyplot as plt\n",
    "import seaborn as sns\n",
    "\n",
    "from sklearn.model_selection import train_test_split, GridSearchCV\n",
    "from sklearn.ensemble import RandomForestRegressor\n",
    "from sklearn.linear_model import LinearRegression\n",
    "from xgboost import XGBRegressor\n",
    "from sklearn.metrics import mean_squared_error, mean_absolute_error, r2_score\n",
    "from sklearn.preprocessing import StandardScaler\n",
    "from sklearn.pipeline import Pipeline\n",
    "import joblib"
   ]
  },
  {
   "cell_type": "code",
   "execution_count": 4,
   "id": "c41ae5cf",
   "metadata": {},
   "outputs": [
    {
     "name": "stdout",
     "output_type": "stream",
     "text": [
      "\n",
      "Dataset Shape: (1000, 16)\n"
     ]
    },
    {
     "data": {
      "text/html": [
       "<div>\n",
       "<style scoped>\n",
       "    .dataframe tbody tr th:only-of-type {\n",
       "        vertical-align: middle;\n",
       "    }\n",
       "\n",
       "    .dataframe tbody tr th {\n",
       "        vertical-align: top;\n",
       "    }\n",
       "\n",
       "    .dataframe thead th {\n",
       "        text-align: right;\n",
       "    }\n",
       "</style>\n",
       "<table border=\"1\" class=\"dataframe\">\n",
       "  <thead>\n",
       "    <tr style=\"text-align: right;\">\n",
       "      <th></th>\n",
       "      <th>customer_id</th>\n",
       "      <th>total_orders</th>\n",
       "      <th>returns</th>\n",
       "      <th>return_ratio</th>\n",
       "      <th>product_category_risk_score</th>\n",
       "      <th>vague_reason_count</th>\n",
       "      <th>average_return_window</th>\n",
       "      <th>customer_rating_behavior_score</th>\n",
       "      <th>mismatch_flag_history</th>\n",
       "      <th>total_monetary_value_of_returns</th>\n",
       "      <th>average_order_value</th>\n",
       "      <th>return_frequency_per_month</th>\n",
       "      <th>time_since_last_return</th>\n",
       "      <th>customer_tenure_days</th>\n",
       "      <th>number_of_different_categories_returned</th>\n",
       "      <th>risk_score</th>\n",
       "    </tr>\n",
       "  </thead>\n",
       "  <tbody>\n",
       "    <tr>\n",
       "      <th>0</th>\n",
       "      <td>CUST0000</td>\n",
       "      <td>43</td>\n",
       "      <td>19</td>\n",
       "      <td>0.44</td>\n",
       "      <td>0.4</td>\n",
       "      <td>3</td>\n",
       "      <td>3</td>\n",
       "      <td>2.92</td>\n",
       "      <td>0</td>\n",
       "      <td>1514.38</td>\n",
       "      <td>3324.26</td>\n",
       "      <td>0.26</td>\n",
       "      <td>87</td>\n",
       "      <td>521</td>\n",
       "      <td>2</td>\n",
       "      <td>40</td>\n",
       "    </tr>\n",
       "    <tr>\n",
       "      <th>1</th>\n",
       "      <td>CUST0001</td>\n",
       "      <td>25</td>\n",
       "      <td>0</td>\n",
       "      <td>0.00</td>\n",
       "      <td>0.9</td>\n",
       "      <td>0</td>\n",
       "      <td>6</td>\n",
       "      <td>2.26</td>\n",
       "      <td>0</td>\n",
       "      <td>328.32</td>\n",
       "      <td>2718.92</td>\n",
       "      <td>1.26</td>\n",
       "      <td>187</td>\n",
       "      <td>812</td>\n",
       "      <td>3</td>\n",
       "      <td>25</td>\n",
       "    </tr>\n",
       "    <tr>\n",
       "      <th>2</th>\n",
       "      <td>CUST0002</td>\n",
       "      <td>48</td>\n",
       "      <td>19</td>\n",
       "      <td>0.40</td>\n",
       "      <td>0.9</td>\n",
       "      <td>1</td>\n",
       "      <td>3</td>\n",
       "      <td>2.58</td>\n",
       "      <td>0</td>\n",
       "      <td>9427.80</td>\n",
       "      <td>2903.78</td>\n",
       "      <td>1.22</td>\n",
       "      <td>89</td>\n",
       "      <td>594</td>\n",
       "      <td>2</td>\n",
       "      <td>25</td>\n",
       "    </tr>\n",
       "    <tr>\n",
       "      <th>3</th>\n",
       "      <td>CUST0003</td>\n",
       "      <td>24</td>\n",
       "      <td>14</td>\n",
       "      <td>0.58</td>\n",
       "      <td>0.4</td>\n",
       "      <td>2</td>\n",
       "      <td>3</td>\n",
       "      <td>4.53</td>\n",
       "      <td>1</td>\n",
       "      <td>2661.92</td>\n",
       "      <td>3380.11</td>\n",
       "      <td>1.00</td>\n",
       "      <td>133</td>\n",
       "      <td>595</td>\n",
       "      <td>2</td>\n",
       "      <td>35</td>\n",
       "    </tr>\n",
       "    <tr>\n",
       "      <th>4</th>\n",
       "      <td>CUST0004</td>\n",
       "      <td>8</td>\n",
       "      <td>5</td>\n",
       "      <td>0.62</td>\n",
       "      <td>0.6</td>\n",
       "      <td>0</td>\n",
       "      <td>2</td>\n",
       "      <td>3.17</td>\n",
       "      <td>1</td>\n",
       "      <td>976.08</td>\n",
       "      <td>1140.72</td>\n",
       "      <td>0.23</td>\n",
       "      <td>39</td>\n",
       "      <td>754</td>\n",
       "      <td>5</td>\n",
       "      <td>45</td>\n",
       "    </tr>\n",
       "  </tbody>\n",
       "</table>\n",
       "</div>"
      ],
      "text/plain": [
       "  customer_id  total_orders  returns  return_ratio  \\\n",
       "0    CUST0000            43       19          0.44   \n",
       "1    CUST0001            25        0          0.00   \n",
       "2    CUST0002            48       19          0.40   \n",
       "3    CUST0003            24       14          0.58   \n",
       "4    CUST0004             8        5          0.62   \n",
       "\n",
       "   product_category_risk_score  vague_reason_count  average_return_window  \\\n",
       "0                          0.4                   3                      3   \n",
       "1                          0.9                   0                      6   \n",
       "2                          0.9                   1                      3   \n",
       "3                          0.4                   2                      3   \n",
       "4                          0.6                   0                      2   \n",
       "\n",
       "   customer_rating_behavior_score  mismatch_flag_history  \\\n",
       "0                            2.92                      0   \n",
       "1                            2.26                      0   \n",
       "2                            2.58                      0   \n",
       "3                            4.53                      1   \n",
       "4                            3.17                      1   \n",
       "\n",
       "   total_monetary_value_of_returns  average_order_value  \\\n",
       "0                          1514.38              3324.26   \n",
       "1                           328.32              2718.92   \n",
       "2                          9427.80              2903.78   \n",
       "3                          2661.92              3380.11   \n",
       "4                           976.08              1140.72   \n",
       "\n",
       "   return_frequency_per_month  time_since_last_return  customer_tenure_days  \\\n",
       "0                        0.26                      87                   521   \n",
       "1                        1.26                     187                   812   \n",
       "2                        1.22                      89                   594   \n",
       "3                        1.00                     133                   595   \n",
       "4                        0.23                      39                   754   \n",
       "\n",
       "   number_of_different_categories_returned  risk_score  \n",
       "0                                        2          40  \n",
       "1                                        3          25  \n",
       "2                                        2          25  \n",
       "3                                        2          35  \n",
       "4                                        5          45  "
      ]
     },
     "execution_count": 4,
     "metadata": {},
     "output_type": "execute_result"
    }
   ],
   "source": [
    "data_path = \"data/customer_return_risk_dataset.csv\"\n",
    "df = pd.read_csv(data_path)\n",
    "print(\"\\nDataset Shape:\", df.shape)\n",
    "df.head()"
   ]
  },
  {
   "cell_type": "code",
   "execution_count": 5,
   "id": "ac90e131",
   "metadata": {},
   "outputs": [
    {
     "name": "stdout",
     "output_type": "stream",
     "text": [
      "\n",
      "Missing values:\n",
      " customer_id                                0\n",
      "total_orders                               0\n",
      "returns                                    0\n",
      "return_ratio                               0\n",
      "product_category_risk_score                0\n",
      "vague_reason_count                         0\n",
      "average_return_window                      0\n",
      "customer_rating_behavior_score             0\n",
      "mismatch_flag_history                      0\n",
      "total_monetary_value_of_returns            0\n",
      "average_order_value                        0\n",
      "return_frequency_per_month                 0\n",
      "time_since_last_return                     0\n",
      "customer_tenure_days                       0\n",
      "number_of_different_categories_returned    0\n",
      "risk_score                                 0\n",
      "dtype: int64\n",
      "\n",
      "Data Types:\n",
      " customer_id                                 object\n",
      "total_orders                                 int64\n",
      "returns                                      int64\n",
      "return_ratio                               float64\n",
      "product_category_risk_score                float64\n",
      "vague_reason_count                           int64\n",
      "average_return_window                        int64\n",
      "customer_rating_behavior_score             float64\n",
      "mismatch_flag_history                        int64\n",
      "total_monetary_value_of_returns            float64\n",
      "average_order_value                        float64\n",
      "return_frequency_per_month                 float64\n",
      "time_since_last_return                       int64\n",
      "customer_tenure_days                         int64\n",
      "number_of_different_categories_returned      int64\n",
      "risk_score                                   int64\n",
      "dtype: object\n"
     ]
    }
   ],
   "source": [
    "print(\"\\nMissing values:\\n\", df.isnull().sum())\n",
    "print(\"\\nData Types:\\n\", df.dtypes)"
   ]
  },
  {
   "cell_type": "code",
   "execution_count": 6,
   "id": "b80d7f75",
   "metadata": {},
   "outputs": [],
   "source": [
    "df.drop(\"customer_id\", axis=1, inplace=True)"
   ]
  },
  {
   "cell_type": "code",
   "execution_count": 7,
   "id": "ac73049c",
   "metadata": {},
   "outputs": [],
   "source": [
    "X = df.drop(\"risk_score\", axis=1)\n",
    "y = df[\"risk_score\"]"
   ]
  },
  {
   "cell_type": "code",
   "execution_count": 8,
   "id": "7e6c5099",
   "metadata": {},
   "outputs": [
    {
     "name": "stdout",
     "output_type": "stream",
     "text": [
      "\n",
      "Train size: (800, 14)\n",
      "Test size: (200, 14)\n"
     ]
    }
   ],
   "source": [
    "X_train, X_test, y_train, y_test = train_test_split(\n",
    "    X, y, test_size=0.2, random_state=42\n",
    ")\n",
    "\n",
    "print(\"\\nTrain size:\", X_train.shape)\n",
    "print(\"Test size:\", X_test.shape)"
   ]
  },
  {
   "cell_type": "code",
   "execution_count": 13,
   "id": "aae7797e",
   "metadata": {},
   "outputs": [],
   "source": [
    "models = {\n",
    "    \"LinearRegression\": LinearRegression(),\n",
    "    \"RandomForest\": RandomForestRegressor(random_state=42),\n",
    "    \"XGBoost\": XGBRegressor(objective='reg:squarederror', random_state=42)\n",
    "}\n",
    "\n",
    "param_grids = {\n",
    "    \"RandomForest\": {\n",
    "        'model__n_estimators': [100, 200],\n",
    "        'model__max_depth': [10, 20, None],\n",
    "        'model__min_samples_split': [2, 5],\n",
    "        'model__min_samples_leaf': [1, 2]\n",
    "    },\n",
    "    \"XGBoost\": {\n",
    "        'model__n_estimators': [100, 200],\n",
    "        'model__max_depth': [3, 6, 10],\n",
    "        'model__learning_rate': [0.05, 0.1, 0.2]\n",
    "    }\n",
    "}"
   ]
  },
  {
   "cell_type": "code",
   "execution_count": 14,
   "id": "d7dfb6d1",
   "metadata": {},
   "outputs": [
    {
     "name": "stdout",
     "output_type": "stream",
     "text": [
      "\n",
      "Training model: LinearRegression\n",
      "LinearRegression - RMSE: 9.87, MAE: 8.04, R2: 0.61\n",
      "\n",
      "Training model: RandomForest\n",
      "Fitting 5 folds for each of 24 candidates, totalling 120 fits\n",
      "Best Params: {'model__max_depth': 10, 'model__min_samples_leaf': 1, 'model__min_samples_split': 2, 'model__n_estimators': 200}\n",
      "RandomForest - RMSE: 3.87, MAE: 2.31, R2: 0.94\n",
      "\n",
      "Training model: XGBoost\n",
      "Fitting 5 folds for each of 18 candidates, totalling 90 fits\n",
      "Best Params: {'model__learning_rate': 0.1, 'model__max_depth': 3, 'model__n_estimators': 200}\n",
      "XGBoost - RMSE: 1.24, MAE: 0.68, R2: 0.99\n"
     ]
    }
   ],
   "source": [
    "results = {}\n",
    "\n",
    "for name, model in models.items():\n",
    "    print(f\"\\nTraining model: {name}\")\n",
    "    pipeline = Pipeline([\n",
    "        ('scaler', StandardScaler()),\n",
    "        ('model', model)\n",
    "    ])\n",
    "\n",
    "    if name in param_grids:\n",
    "        grid = GridSearchCV(pipeline, param_grids[name], cv=5, n_jobs=-1, verbose=1, scoring='neg_mean_squared_error')\n",
    "        grid.fit(X_train, y_train)\n",
    "        best_model = grid.best_estimator_\n",
    "        print(\"Best Params:\", grid.best_params_)\n",
    "    else:\n",
    "        best_model = pipeline.fit(X_train, y_train)\n",
    "\n",
    "    y_pred = best_model.predict(X_test)\n",
    "\n",
    "    rmse = np.sqrt(mean_squared_error(y_test, y_pred))\n",
    "    mae = mean_absolute_error(y_test, y_pred)\n",
    "    r2 = r2_score(y_test, y_pred)\n",
    "\n",
    "    print(f\"{name} - RMSE: {rmse:.2f}, MAE: {mae:.2f}, R2: {r2:.2f}\")\n",
    "    results[name] = {\n",
    "        \"model\": best_model,\n",
    "        \"rmse\": rmse,\n",
    "        \"mae\": mae,\n",
    "        \"r2\": r2\n",
    "    }"
   ]
  },
  {
   "cell_type": "code",
   "execution_count": 15,
   "id": "9dbaf901",
   "metadata": {},
   "outputs": [
    {
     "name": "stdout",
     "output_type": "stream",
     "text": [
      "\n",
      "Model Comparison:\n",
      "                      rmse       mae        r2\n",
      "XGBoost           1.236776  0.675262  0.993863\n",
      "RandomForest      3.871732  2.306019  0.939853\n",
      "LinearRegression  9.871349  8.042218  0.609018\n"
     ]
    }
   ],
   "source": [
    "results_df = pd.DataFrame(results).T[[\"rmse\", \"mae\", \"r2\"]]\n",
    "print(\"\\nModel Comparison:\")\n",
    "print(results_df.sort_values(\"rmse\"))"
   ]
  },
  {
   "cell_type": "code",
   "execution_count": 16,
   "id": "0314f611",
   "metadata": {},
   "outputs": [
    {
     "data": {
      "image/png": "[encoded data removed]",
      "text/plain": [
       "<Figure size 1000x600 with 1 Axes>"
      ]
     },
     "metadata": {},
     "output_type": "display_data"
    }
   ],
   "source": [
    "rf_model = results[\"RandomForest\"][\"model\"].named_steps['model']\n",
    "feature_importance = pd.Series(rf_model.feature_importances_, index=X.columns)\n",
    "\n",
    "plt.figure(figsize=(10,6))\n",
    "feature_importance.sort_values().plot(kind='barh', title=\"Feature Importance (Random Forest)\")\n",
    "plt.tight_layout()\n",
    "plt.show()"
   ]
  },
  {
   "cell_type": "code",
   "execution_count": 18,
   "id": "4d43f832",
   "metadata": {},
   "outputs": [
    {
     "name": "stdout",
     "output_type": "stream",
     "text": [
      "\n",
      "Best model 'XGBoost' saved to: model/return_risk_model_XGBoost.pkl\n"
     ]
    }
   ],
   "source": [
    "best_model_name = results_df.sort_values(\"rmse\").index[0]\n",
    "best_model = results[best_model_name][\"model\"]\n",
    "model_path = f\"model/return_risk_model_{best_model_name}.pkl\"\n",
    "joblib.dump(best_model, model_path)\n",
    "print(f\"\\nBest model '{best_model_name}' saved to: {model_path}\")"
   ]
  },
  {
   "cell_type": "code",
   "execution_count": null,
   "id": "e1250955",
   "metadata": {},
   "outputs": [],
   "source": []
  }
 ],
 "metadata": {
  "kernelspec": {
   "display_name": "Python 3",
   "language": "python",
   "name": "python3"
  },
  "language_info": {
   "codemirror_mode": {
    "name": "ipython",
    "version": 3
   },
   "file_extension": ".py",
   "mimetype": "text/x-python",
   "name": "python",
   "nbconvert_exporter": "python",
   "pygments_lexer": "ipython3",
   "version": "3.10.0"
  }
 },
 "nbformat": 4,
 "nbformat_minor": 5
}
